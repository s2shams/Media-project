{
 "cells": [
  {
   "cell_type": "code",
   "execution_count": null,
   "id": "8e5e8d63-4bb7-4d4e-8eee-b289178867b9",
   "metadata": {},
   "outputs": [],
   "source": [
    "import pandas as pd   \n",
    "import requests       \n",
    "from bs4 import BeautifulSoup \n",
    "import numpy as np  \n",
    "\n",
    "movie_name = []\n",
    "genre = []\n",
    "rating = []\n",
    "description = []\n",
    "\n",
    "\n",
    "i = 1\n",
    "while i < 100:\n",
    "    url = 'https://www.imdb.com/search/title/?title_type=tv_movie,tv_series&count=100&start={}&ref_=adv_nxt'\n",
    "    response = requests.get(url.format(i))\n",
    "    soup = BeautifulSoup(response.content, 'html.parser')\n",
    "    movie_data = soup.findAll('div', attrs= {'class': 'lister-item mode-advanced'})\n",
    "    \n",
    "    for store in movie_data:\n",
    "        name = store.h3.a.text\n",
    "        movie_name.append(name)\n",
    "\n",
    "        rate = store.find('div', class_ = 'inline-block ratings-imdb-rating').text.replace('\\n', '')\n",
    "        rating.append(rate)\n",
    "\n",
    "        describe = store.find_all('p', class_ = 'text-muted')\n",
    "        description_ = describe[1].text.replace('\\n', '') if len(describe) >1 else '*****'\n",
    "        description.append(description_)\n",
    "        \n",
    "        genre_tag = store.find('p', class_='text-muted').find('span', class_='genre')\n",
    "        genre1 = genre_tag.text.strip()\n",
    "        genre.append(genre1)\n",
    "        \n",
    "        i += 100\n",
    "        \n",
    "        \n",
    "        "
   ]
  }
 ],
 "metadata": {
  "kernelspec": {
   "display_name": "Python 3 (ipykernel)",
   "language": "python",
   "name": "python3"
  },
  "language_info": {
   "codemirror_mode": {
    "name": "ipython",
    "version": 3
   },
   "file_extension": ".py",
   "mimetype": "text/x-python",
   "name": "python",
   "nbconvert_exporter": "python",
   "pygments_lexer": "ipython3",
   "version": "3.10.8"
  }
 },
 "nbformat": 4,
 "nbformat_minor": 5
}
